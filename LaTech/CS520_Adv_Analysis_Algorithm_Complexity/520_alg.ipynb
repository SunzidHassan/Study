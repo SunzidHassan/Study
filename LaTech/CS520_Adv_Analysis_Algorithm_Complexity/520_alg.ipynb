{
 "cells": [
  {
   "cell_type": "markdown",
   "metadata": {},
   "source": [
    "# 520"
   ]
  },
  {
   "cell_type": "markdown",
   "metadata": {},
   "source": [
    "### Problems\n",
    "**Problem**: a problem $Q$ is a binary relation on a set $I$ of instances and a set $S$ of solutions $Q\\subseteq I\\times S$\n",
    "\n",
    "Every problem can be expressed as deciding whether an object is a member of a set.\n",
    "\n",
    "There are three types of problems: general problem, function problem, decision problem."
   ]
  },
  {
   "cell_type": "markdown",
   "metadata": {},
   "source": [
    "#### Define natural number"
   ]
  },
  {
   "cell_type": "code",
   "execution_count": 15,
   "metadata": {},
   "outputs": [
    {
     "name": "stdout",
     "output_type": "stream",
     "text": [
      "0\n",
      "0\n",
      "1\n",
      "0\n",
      "2\n",
      "0\n",
      "3\n",
      "0\n",
      "4\n",
      "0\n",
      "5\n",
      "0\n",
      "6\n",
      "0\n",
      "7\n",
      "0\n",
      "8\n",
      "0\n",
      "9\n",
      "0\n"
     ]
    }
   ],
   "source": [
    "def N():\n",
    "    n = 0\n",
    "    while True:\n",
    "        yield n\n",
    "        # print (n)\n",
    "        # n += 1\n",
    "\n",
    "# testing\n",
    "myN = N()\n",
    "\n",
    "for _ in range(10):\n",
    "    print (_)\n",
    "    print (next(myN))"
   ]
  },
  {
   "cell_type": "markdown",
   "metadata": {},
   "source": [
    "#### Membership in Natural numbers"
   ]
  },
  {
   "cell_type": "code",
   "execution_count": null,
   "metadata": {},
   "outputs": [
    {
     "name": "stdout",
     "output_type": "stream",
     "text": [
      "0\n",
      "1\n",
      "2\n",
      "3\n",
      "4\n",
      "5\n",
      "6\n",
      "7\n",
      "8\n",
      "9\n",
      "10\n",
      "11\n",
      "True\n",
      "201\n"
     ]
    }
   ],
   "source": [
    "# def natural number\n",
    "\n",
    "def N():\n",
    "    n = 0\n",
    "    while True:\n",
    "        yield n\n",
    "        n += 1\n",
    "\n",
    "# Testing\n",
    "myN = N()\n",
    "print(next(myN))\n",
    "print(next(myN))\n",
    "for _ in range(10):\n",
    "    print(next(myN))\n",
    "\n",
    "# check if an element is in an infinite set!\n",
    "print(200 in myN)\n",
    "\n",
    "#yeild remembers the last element returned\n",
    "print(next(myN))"
   ]
  },
  {
   "cell_type": "markdown",
   "metadata": {},
   "source": [
    "#### Generator of all prime numbers"
   ]
  },
  {
   "cell_type": "code",
   "execution_count": null,
   "metadata": {},
   "outputs": [
    {
     "name": "stdout",
     "output_type": "stream",
     "text": [
      "2\n",
      "3\n",
      "5\n",
      "7\n",
      "11\n",
      "13\n",
      "17\n",
      "19\n",
      "23\n",
      "29\n"
     ]
    }
   ],
   "source": [
    "def primes():\n",
    "    prime = 2\n",
    "    while True:\n",
    "        if all(prime % i != 0 for i in range(2, int(prime ** 0.5) + 1)):\n",
    "            yield prime\n",
    "        prime += 1\n",
    "\n",
    "# Example usage:\n",
    "prime_gen = primes()\n",
    "for _ in range(10):\n",
    "    print(next(prime_gen))"
   ]
  },
  {
   "cell_type": "markdown",
   "metadata": {},
   "source": [
    "#### Generator of all fibonacci numbers"
   ]
  },
  {
   "cell_type": "code",
   "execution_count": null,
   "metadata": {},
   "outputs": [
    {
     "name": "stdout",
     "output_type": "stream",
     "text": [
      "The Fibonacci numbers are: [1, 1, 2, 3, 5, 8, 13, 21, 34, 55]\n"
     ]
    }
   ],
   "source": [
    "# fibonacci numbers where f(0) = 1 and f(1) = 1\n",
    "\n",
    "fib = lambda n: None if n < 0 else 1 if n < 2 else fib(n -1) + fib(n - 2)\n",
    "\n",
    "if __name__ == '__main__':\n",
    "    print(\"The Fibonacci numbers are:\", [fib(n) for n in range(10)])"
   ]
  },
  {
   "cell_type": "markdown",
   "metadata": {},
   "source": [
    "### 1. General Problems\n",
    "A general problem $G$ is a total relation $G\\subseteq I\\times S$\n",
    "One or more solutions can be produced for each problem instance. It is also called search problem or optimal solution problem. It can be expressed as deciding whether an object is a member of a set."
   ]
  },
  {
   "cell_type": "markdown",
   "metadata": {},
   "source": [
    "#### Square-root values"
   ]
  },
  {
   "cell_type": "code",
   "execution_count": 27,
   "metadata": {},
   "outputs": [
    {
     "data": {
      "text/plain": [
       "{(0, -9),\n",
       " (0, -8),\n",
       " (0, -7),\n",
       " (0, -6),\n",
       " (0, -5),\n",
       " (0, -4),\n",
       " (0, -3),\n",
       " (0, -2),\n",
       " (0, -1),\n",
       " (0, 0),\n",
       " (0, 1),\n",
       " (0, 2),\n",
       " (0, 3),\n",
       " (0, 4),\n",
       " (0, 5),\n",
       " (0, 6),\n",
       " (0, 7),\n",
       " (0, 8),\n",
       " (0, 9),\n",
       " (1, -9),\n",
       " (1, -8),\n",
       " (1, -7),\n",
       " (1, -6),\n",
       " (1, -5),\n",
       " (1, -4),\n",
       " (1, -3),\n",
       " (1, -2),\n",
       " (1, -1),\n",
       " (1, 0),\n",
       " (1, 1),\n",
       " (1, 2),\n",
       " (1, 3),\n",
       " (1, 4),\n",
       " (1, 5),\n",
       " (1, 6),\n",
       " (1, 7),\n",
       " (1, 8),\n",
       " (1, 9),\n",
       " (4, -9),\n",
       " (4, -8),\n",
       " (4, -7),\n",
       " (4, -6),\n",
       " (4, -5),\n",
       " (4, -4),\n",
       " (4, -3),\n",
       " (4, -2),\n",
       " (4, -1),\n",
       " (4, 0),\n",
       " (4, 1),\n",
       " (4, 2),\n",
       " (4, 3),\n",
       " (4, 4),\n",
       " (4, 5),\n",
       " (4, 6),\n",
       " (4, 7),\n",
       " (4, 8),\n",
       " (4, 9),\n",
       " (9, -9),\n",
       " (9, -8),\n",
       " (9, -7),\n",
       " (9, -6),\n",
       " (9, -5),\n",
       " (9, -4),\n",
       " (9, -3),\n",
       " (9, -2),\n",
       " (9, -1),\n",
       " (9, 0),\n",
       " (9, 1),\n",
       " (9, 2),\n",
       " (9, 3),\n",
       " (9, 4),\n",
       " (9, 5),\n",
       " (9, 6),\n",
       " (9, 7),\n",
       " (9, 8),\n",
       " (9, 9),\n",
       " (16, -9),\n",
       " (16, -8),\n",
       " (16, -7),\n",
       " (16, -6),\n",
       " (16, -5),\n",
       " (16, -4),\n",
       " (16, -3),\n",
       " (16, -2),\n",
       " (16, -1),\n",
       " (16, 0),\n",
       " (16, 1),\n",
       " (16, 2),\n",
       " (16, 3),\n",
       " (16, 4),\n",
       " (16, 5),\n",
       " (16, 6),\n",
       " (16, 7),\n",
       " (16, 8),\n",
       " (16, 9),\n",
       " (25, -9),\n",
       " (25, -8),\n",
       " (25, -7),\n",
       " (25, -6),\n",
       " (25, -5),\n",
       " (25, -4),\n",
       " (25, -3),\n",
       " (25, -2),\n",
       " (25, -1),\n",
       " (25, 0),\n",
       " (25, 1),\n",
       " (25, 2),\n",
       " (25, 3),\n",
       " (25, 4),\n",
       " (25, 5),\n",
       " (25, 6),\n",
       " (25, 7),\n",
       " (25, 8),\n",
       " (25, 9),\n",
       " (36, -9),\n",
       " (36, -8),\n",
       " (36, -7),\n",
       " (36, -6),\n",
       " (36, -5),\n",
       " (36, -4),\n",
       " (36, -3),\n",
       " (36, -2),\n",
       " (36, -1),\n",
       " (36, 0),\n",
       " (36, 1),\n",
       " (36, 2),\n",
       " (36, 3),\n",
       " (36, 4),\n",
       " (36, 5),\n",
       " (36, 6),\n",
       " (36, 7),\n",
       " (36, 8),\n",
       " (36, 9),\n",
       " (49, -9),\n",
       " (49, -8),\n",
       " (49, -7),\n",
       " (49, -6),\n",
       " (49, -5),\n",
       " (49, -4),\n",
       " (49, -3),\n",
       " (49, -2),\n",
       " (49, -1),\n",
       " (49, 0),\n",
       " (49, 1),\n",
       " (49, 2),\n",
       " (49, 3),\n",
       " (49, 4),\n",
       " (49, 5),\n",
       " (49, 6),\n",
       " (49, 7),\n",
       " (49, 8),\n",
       " (49, 9),\n",
       " (64, -9),\n",
       " (64, -8),\n",
       " (64, -7),\n",
       " (64, -6),\n",
       " (64, -5),\n",
       " (64, -4),\n",
       " (64, -3),\n",
       " (64, -2),\n",
       " (64, -1),\n",
       " (64, 0),\n",
       " (64, 1),\n",
       " (64, 2),\n",
       " (64, 3),\n",
       " (64, 4),\n",
       " (64, 5),\n",
       " (64, 6),\n",
       " (64, 7),\n",
       " (64, 8),\n",
       " (64, 9),\n",
       " (81, -9),\n",
       " (81, -8),\n",
       " (81, -7),\n",
       " (81, -6),\n",
       " (81, -5),\n",
       " (81, -4),\n",
       " (81, -3),\n",
       " (81, -2),\n",
       " (81, -1),\n",
       " (81, 0),\n",
       " (81, 1),\n",
       " (81, 2),\n",
       " (81, 3),\n",
       " (81, 4),\n",
       " (81, 5),\n",
       " (81, 6),\n",
       " (81, 7),\n",
       " (81, 8),\n",
       " (81, 9)}"
      ]
     },
     "execution_count": 27,
     "metadata": {},
     "output_type": "execute_result"
    }
   ],
   "source": [
    "IxS"
   ]
  },
  {
   "cell_type": "code",
   "execution_count": null,
   "metadata": {},
   "outputs": [
    {
     "name": "stdout",
     "output_type": "stream",
     "text": [
      "{(64, 5), (4, 0), (36, -2), (36, -1), (4, 9), (36, 7), (1, -6), (0, -4), (25, -5), (9, 8), (0, 5), (49, -2), (49, -1), (49, 7), (81, 5), (64, -2), (64, -1), (4, -7), (36, -9), (64, 7), (4, 2), (36, 0), (36, 9), (9, -8), (9, 1), (0, -1), (0, -2), (25, -3), (0, 7), (49, -9), (49, 0), (81, -2), (81, -1), (1, 8), (49, 9), (64, -9), (16, 6), (81, 7), (64, 0), (4, -5), (36, -7), (64, 9), (36, 2), (9, -6), (0, -9), (9, 3), (0, 0), (0, 9), (49, -7), (81, -9), (49, 2), (81, 0), (64, -7), (16, 8), (81, 9), (64, 2), (36, -5), (36, 4), (9, -4), (0, -7), (9, 5), (0, 2), (49, -5), (16, -8), (81, -7), (1, 3), (49, 4), (25, 4), (16, 1), (81, 2), (64, -5), (64, 4), (36, -3), (36, 6), (9, -2), (0, -5), (9, -1), (9, 7), (1, -4), (49, -3), (16, -6), (81, -5), (1, 5), (25, 6), (16, 3), (81, 4), (64, -3), (64, 6), (9, -9), (4, 4), (9, 0), (0, -3), (9, 9), (1, -2), (1, -1), (16, -4), (81, -3), (1, 7), (25, 8), (16, 5), (81, 6), (36, -8), (64, 8), (4, -3), (9, -7), (4, 6), (9, 2), (1, -9), (49, -8), (25, -8), (1, 0), (25, 1), (16, -2), (16, -1), (1, 9), (64, -8), (16, 7), (81, 8), (64, 1), (36, -6), (9, -5), (4, 8), (1, -7), (25, -6), (16, -9), (81, -8), (1, 2), (0, 4), (25, 3), (16, 0), (81, 1), (64, -6), (16, 9), (49, 6), (4, -8), (4, 1), (36, 8), (1, -5), (25, -4), (16, -7), (81, -6), (1, 4), (0, 6), (25, 5), (16, 2), (81, 3), (64, -4), (49, 8), (4, -6), (4, 3), (36, 1), (1, -3), (25, -2), (16, -5), (81, -4), (1, 6), (0, 8), (25, 7), (16, 4), (25, -1), (49, 1), (4, -4), (4, 5), (36, 3), (0, -8), (25, -9), (9, 4), (0, 1), (25, 0), (16, -3), (49, -6), (25, 9), (49, 3), (64, 3), (4, -2), (4, -1), (36, -4), (4, 7), (36, 5), (1, -8), (0, -6), (9, -3), (25, -7), (1, 1), (0, 3), (9, 6), (25, 2), (49, -4), (49, 5), (4, -9)}\n",
      "True\n",
      "False\n"
     ]
    }
   ],
   "source": [
    "#square values\n",
    "# input\n",
    "S = {n for n in range(-9, 10)}\n",
    "I = {s*s for s in S}\n",
    "\n",
    "# all combinations for input-output\n",
    "IxS = {(i, s) for i in I for s in S}\n",
    "print(IxS)\n",
    "\n",
    "# solution generator\n",
    "G = {(i,s) for (i,s) in IxS if s*s == i}\n",
    "\n",
    "# checking membership in G\n",
    "inG = lambda i,ss: all((i,s) in G for s in ss)\n",
    "# inG: membership function - whether it's in G or not\n",
    "# lambda is an anonymous function. Input is 1 number i, output is set.\n",
    "# Check whether i belongs to G. Check if all of them are True - return True in that case.\n",
    "\n",
    "print(inG(4, {2, -2}))\n",
    "print(inG(4, {2,-3}))\n",
    "\n",
    "def inG(i, s):\n",
    "    if s*s == i:\n",
    "        return True\n",
    "    else :\n",
    "        return False\n",
    "    \n",
    "inG(4, 2)"
   ]
  },
  {
   "cell_type": "markdown",
   "metadata": {},
   "source": [
    "### 2. Function Problems\n",
    "A function problem $F$ is a function $F\\subseteq I\\times S$\n",
    "One solution is produced for each problem instance. It is also called computation problem or optimal value problem. It can be expressed as deciding whether an object, $(i,s)$ is a member of the set %F%, where $i\\in I$, $s\\in S$."
   ]
  },
  {
   "cell_type": "markdown",
   "metadata": {},
   "source": [
    "#### Absolute values"
   ]
  },
  {
   "cell_type": "code",
   "execution_count": null,
   "metadata": {},
   "outputs": [
    {
     "name": "stdout",
     "output_type": "stream",
     "text": [
      "True\n",
      "False\n"
     ]
    }
   ],
   "source": [
    "# absolute values\n",
    "I = set(range(-9,10))\n",
    "S = set(range(10))\n",
    "\n",
    "IxS = {(i,s) for i in I for s in S}\n",
    "F={(i,s) for (i,s) in IxS if i==s or -i==s}\n",
    "\n",
    "\n",
    "print((-1,1) in F)\n",
    "print((-1,-1)in F)"
   ]
  },
  {
   "cell_type": "markdown",
   "metadata": {},
   "source": [
    "### 3. Decision Problems\n",
    "A decision problem Q is a function $Q\\subseteq I\\times \\{no, yes\\}$."
   ]
  },
  {
   "cell_type": "markdown",
   "metadata": {},
   "source": [
    "#### Divisible by 3"
   ]
  },
  {
   "cell_type": "code",
   "execution_count": 9,
   "metadata": {},
   "outputs": [
    {
     "name": "stdout",
     "output_type": "stream",
     "text": [
      "True\n",
      "False\n",
      "True\n"
     ]
    }
   ],
   "source": [
    "# numbers divisible by 3\n",
    "I= set(range(20))\n",
    "S = {'no', 'yes'} # or {0, 1}\n",
    "IxS = {(i,s) for i in I for s in S}\n",
    "Q = {(i,s) for (i,s) in IxS if (i%3==0 and s=='yes') or (i%3!=0 and s=='no')}\n",
    "Y = {i for (i,s) in Q if s=='yes'}\n",
    "\n",
    "print(0 in Y)\n",
    "print(4 in Y)\n",
    "print(9 in Y)\n"
   ]
  },
  {
   "cell_type": "markdown",
   "metadata": {},
   "source": [
    "#### Divisible by 5"
   ]
  },
  {
   "cell_type": "code",
   "execution_count": null,
   "metadata": {},
   "outputs": [
    {
     "name": "stdout",
     "output_type": "stream",
     "text": [
      "{0, 1, 2, 3, 4, 5, 6, 7, 8, 9, 10, 11, 12, 13, 14, 15, 16, 17, 18, 19}\n",
      "{(11, 'no'), (2, 'no'), (13, 'no'), (6, 'no'), (0, 'yes'), (15, 'yes'), (4, 'no'), (17, 'no'), (8, 'no'), (19, 'no'), (1, 'no'), (10, 'yes'), (12, 'no'), (3, 'no'), (14, 'no'), (5, 'yes'), (16, 'no'), (7, 'no'), (18, 'no'), (9, 'no')}\n",
      "False\n",
      "True\n"
     ]
    }
   ],
   "source": [
    "# numbers divisible by 3\n",
    "I= set(range(20))\n",
    "S = {'no', 'yes'} # or {0, 1}\n",
    "IxS = {(i,s) for i in I for s in S}\n",
    "Q = {(i,s) for (i,s) in IxS if (i%5==0 and s=='yes') or (i%5!=0 and s=='no')}\n",
    "Y = {i for (i,s) in Q if s=='yes'}\n",
    "\n",
    "print(4 in Y)\n",
    "print(10 in Y)"
   ]
  },
  {
   "cell_type": "markdown",
   "metadata": {},
   "source": [
    "#### Even"
   ]
  },
  {
   "cell_type": "code",
   "execution_count": 41,
   "metadata": {},
   "outputs": [
    {
     "name": "stdout",
     "output_type": "stream",
     "text": [
      "True\n",
      "False\n",
      "True\n"
     ]
    }
   ],
   "source": [
    "def decision(imax):\n",
    "    I = set(range(imax))\n",
    "    S = {'no', 'yes'}\n",
    "    IxS = {(i, s) for i in I for s in S}\n",
    "    Q = {(i, s) for (i,s) in IxS if (i == 0) or (i%2 == 0 and s=='yes') or (i%2 !=0 and s=='no')}\n",
    "    Y = {i for (i, s) in Q if s=='yes'}\n",
    "    return S, IxS, Q, Y\n",
    "\n",
    "if __name__ == \"__main__\":\n",
    "    print(0 in decision(10)[3])\n",
    "    print(3 in decision(10)[3])\n",
    "    print(4 in decision(10)[3])"
   ]
  },
  {
   "cell_type": "markdown",
   "metadata": {},
   "source": [
    "#### Odd"
   ]
  },
  {
   "cell_type": "code",
   "execution_count": 40,
   "metadata": {},
   "outputs": [
    {
     "name": "stdout",
     "output_type": "stream",
     "text": [
      "False\n",
      "True\n",
      "False\n"
     ]
    }
   ],
   "source": [
    "def decision(imax):\n",
    "    I = set(range(imax))\n",
    "    S = {'no', 'yes'}\n",
    "    IxS = {(i, s) for i in I for s in S}\n",
    "    Q = {(i, s) for (i,s) in IxS if (i%2 != 0 and s=='yes') or (i%2 == 0 and s=='no')}\n",
    "    Y = {i for (i, s) in Q if s=='yes'}\n",
    "    return S, IxS, Q, Y\n",
    "\n",
    "if __name__ == \"__main__\":\n",
    "    print(0 in decision(10)[3])\n",
    "    print(3 in decision(10)[3])\n",
    "    print(4 in decision(10)[3])"
   ]
  },
  {
   "cell_type": "markdown",
   "metadata": {},
   "source": [
    "#### Power 3"
   ]
  },
  {
   "cell_type": "code",
   "execution_count": null,
   "metadata": {},
   "outputs": [
    {
     "name": "stdout",
     "output_type": "stream",
     "text": [
      "{0, 1, 64, 8, 27}\n"
     ]
    }
   ],
   "source": [
    "def cube(pmax):\n",
    "    I = {i for i in range(pmax)}            # input\n",
    "    S = {s**3 for s in I}                   # solution\n",
    "    IxS = {(i,s) for i in I for s in S}     # all input-solution combination\n",
    "    Q = {(i,s) for (i,s) in IxS if i**3==s} # correct input-solution combination\n",
    "    Qf = lambda i:dict(Q)[i]                # membership check?\n",
    "    return I,S,IxS,Q,Qf\n",
    "\n",
    "if __name__=='__main__':\n",
    "    # testing code\n",
    "    I,S,IxS,Q,Qf=cube(5)\n",
    "    print(S)\n",
    "    # print((1,1) in Qf)"
   ]
  },
  {
   "cell_type": "markdown",
   "metadata": {},
   "source": [
    "### Language\n",
    "L is language over $\\Sigma$\n",
    "\n",
    "$\\Sigma^*$ is a set of all possible combinaion of alphabet."
   ]
  },
  {
   "cell_type": "markdown",
   "metadata": {},
   "source": [
    "#### Define all permutations of a set of character 1"
   ]
  },
  {
   "cell_type": "code",
   "execution_count": null,
   "metadata": {},
   "outputs": [
    {
     "data": {
      "text/plain": [
       "{'000', '001', '010', '011', '100', '101', '110', '111'}"
      ]
     },
     "metadata": {},
     "output_type": "display_data"
    }
   ],
   "source": [
    "def Prods(Z:set, n:int) -> set:\n",
    "    P = {''}\n",
    "    for _ in range(n):\n",
    "        P = {p+str(z) for p in P for z in Z}\n",
    "    return P\n",
    "Prods({0,1}, 3)"
   ]
  },
  {
   "cell_type": "markdown",
   "metadata": {},
   "source": [
    "#### Define all permutations of a set of character 2"
   ]
  },
  {
   "cell_type": "code",
   "execution_count": null,
   "metadata": {},
   "outputs": [
    {
     "data": {
      "text/plain": [
       "{'0000',\n",
       " '0001',\n",
       " '0010',\n",
       " '0011',\n",
       " '0100',\n",
       " '0101',\n",
       " '0110',\n",
       " '0111',\n",
       " '1000',\n",
       " '1001',\n",
       " '1010',\n",
       " '1011',\n",
       " '1100',\n",
       " '1101',\n",
       " '1110',\n",
       " '1111'}"
      ]
     },
     "metadata": {},
     "output_type": "display_data"
    }
   ],
   "source": [
    "# def Prod(Z:set, n:int)->str:\n",
    "# Where Z is a set of str (char) len >= 2\n",
    "# n is pos number include 0\n",
    "# output all str of len n based on Z\n",
    "\n",
    "# require recursion for solution?\n",
    "\n",
    "def Prod(Z: set, n: int) -> set:\n",
    "    output = {()}\n",
    "    Zs={()}\n",
    "    \n",
    "    for _ in range(n):\n",
    "        storeSet = set()\n",
    "        for element in Z:\n",
    "            for tuple_ in output:\n",
    "                storeSet.add(tuple_ + (element,)) # storing triples instead of singletons\n",
    "        output = storeSet\n",
    "        Zs= {''.join(x) for x in output}\n",
    "    \n",
    "    return Zs\n",
    "\n",
    "Prod({'1', '0'}, 4)"
   ]
  },
  {
   "cell_type": "markdown",
   "metadata": {},
   "source": [
    "#### Sorting"
   ]
  },
  {
   "cell_type": "code",
   "execution_count": null,
   "metadata": {},
   "outputs": [
    {
     "data": {
      "text/plain": [
       "('A', 'B', 'C')"
      ]
     },
     "metadata": {},
     "output_type": "display_data"
    }
   ],
   "source": [
    "w = {'A', 'B', 'C'}\n",
    "I = set((x, y, z) for x in w for y in w for z in w)\n",
    "S = {(x,y,z) for (x,y,z) in I if x <= y <= z}\n",
    "IxS = {(i,s) for i in I for s in S}\n",
    "Q = {(i,s) for (i,s) in IxS if tuple(sorted(i)) == s}\n",
    "F = lambda i: dict(Q)[i]\n",
    "F(('B', 'C', 'A'))"
   ]
  },
  {
   "cell_type": "markdown",
   "metadata": {},
   "source": [
    "### Turing Machine Problems"
   ]
  },
  {
   "cell_type": "markdown",
   "metadata": {},
   "source": [
    "#### NAND"
   ]
  },
  {
   "cell_type": "code",
   "execution_count": null,
   "metadata": {},
   "outputs": [],
   "source": [
    "# NAND\n",
    "\n",
    "from bcom import *\n",
    "\n",
    "# Input \n",
    "# T = \"00\"\n",
    "# T = \"01\"\n",
    "# T = \"10\"\n",
    "T = \"11\"\n",
    "\n",
    "rwh = 0  # Read-write head at index 0\n",
    "q0 = 0  # Initial state\n",
    "\n",
    "# Turing Machine description\n",
    "df = {\n",
    "    (0, '0'): (1, '0', 1),  # 0 state: search for 0, if any zero is found - shift to find output space state (q1).\n",
    "    (0, '1'): (0, '1', 1),\n",
    "    (0, '_'): (2, '_', 1),  # if you reach the output place ('_') without finding 0, shift to writing 0 state (q2)\n",
    "    (1, '0'): (1, '0', 1),  # find output place (after '_'), and write 1. Skip 0s and 1s\n",
    "    (1, '1'): (1, '1', 1),\n",
    "    (1, '_'): (3, '_', 1),\n",
    "    (2, '_'): (h, '0', 1),  # write 0 and halt\n",
    "    (3, '_'): (h, '1', 1)   # write 1 and halt\n",
    "}\n",
    "\n",
    "# Testing\n",
    "if __name__ == \"__main__\":\n",
    "    result_tape, result_rwh = Utm(T, df, rwh, q0)\n",
    "    print(\"Result Tape:\", result_tape)\n",
    "    print(\"Final Read-Write Head Position:\", result_rwh)"
   ]
  },
  {
   "cell_type": "markdown",
   "metadata": {},
   "source": [
    "#### Max value"
   ]
  },
  {
   "cell_type": "code",
   "execution_count": null,
   "metadata": {},
   "outputs": [
    {
     "name": "stdout",
     "output_type": "stream",
     "text": [
      "Result Tape: 01211_2\n",
      "Final Read-Write Head Position: 7\n"
     ]
    }
   ],
   "source": [
    "# Find max value\n",
    "from bcom import *\n",
    "\n",
    "# Input \n",
    "T = \"01211\"\n",
    "# T = \"01011\"\n",
    "# T = \"00000\"\n",
    "\n",
    "rwh = 0  # Read-write head at index 0\n",
    "q0 = 0  # Initial state\n",
    "\n",
    "# Turing Machine description\n",
    "df = {\n",
    "    (0, '0'): (0, '0', 1),  # Scan input - max 0\n",
    "    (0, '1'): (1, '1', 1), # Scan input - max 1\n",
    "    (0, '2'): (2, '2', 1),  # scan input - max 2\n",
    "    (0, '_'): (3, '_', 1),  # write output - 0\n",
    "\n",
    "    (1, '0'): (1, '0', 1),  # Scan input - max 1\n",
    "    (1, '1'): (1, '1', 1), # Scan input - max 1\n",
    "    (1, '2'): (2, '2', 1),  # scan input - max 2\n",
    "    (1, '_'): (4, '_', 1),  # write output - 1\n",
    "\n",
    "    (2, '0'): (2, '0', 1),  # Scan input - max 2\n",
    "    (2, '1'): (2, '1', 1), # Scan input - max 2\n",
    "    (2, '2'): (2, '2', 1),  # scan input - max 2\n",
    "    (2, '_'): (5, '_', 1),  # write output - 2\n",
    "\n",
    "    (3, '_'): (h, '0', 1),   # write 0 and halt\n",
    "    (4, '_'): (h, '1', 1),   # write 1 and halt\n",
    "    (5, '_'): (h, '2', 1),   # write 2 and halt\n",
    "}\n",
    "\n",
    "# Testing\n",
    "if __name__ == \"__main__\":\n",
    "    result_tape, result_rwh = Utm(T, df, rwh, q0)\n",
    "    print(\"Result Tape:\", result_tape)\n",
    "    print(\"Final Read-Write Head Position:\", result_rwh)"
   ]
  },
  {
   "cell_type": "markdown",
   "metadata": {},
   "source": [
    "#### Min value"
   ]
  },
  {
   "cell_type": "code",
   "execution_count": null,
   "metadata": {},
   "outputs": [
    {
     "name": "stdout",
     "output_type": "stream",
     "text": [
      "Result Tape: 22222_2\n",
      "Final Read-Write Head Position: 7\n"
     ]
    }
   ],
   "source": [
    "# Find min value\n",
    "from bcom import *\n",
    "\n",
    "# Input \n",
    "# T = \"22110\"\n",
    "# T = \"22112\"\n",
    "T = \"22222\"\n",
    "\n",
    "rwh = 0  # Read-write head at index 0\n",
    "q0 = 0  # Initial state\n",
    "\n",
    "# Turing Machine description\n",
    "df = {\n",
    "    (0, '2'): (0, '2', 1),  # scan input - max 2\n",
    "    (0, '1'): (1, '1', 1), # Scan input - max 1\n",
    "    (0, '0'): (2, '0', 1),  # Scan input - max 0\n",
    "    (0, '_'): (3, '_', 1),  # write output - 0\n",
    "\n",
    "    (1, '2'): (1, '2', 1),  # Scan input - max 1\n",
    "    (1, '1'): (1, '1', 1), # Scan input - max 1\n",
    "    (1, '0'): (2, '0', 1),  # scan input - max 2\n",
    "    (1, '_'): (4, '_', 1),  # write output - 1\n",
    "\n",
    "    (2, '0'): (2, '0', 1),  # Scan input - max 2\n",
    "    (2, '1'): (2, '1', 1), # Scan input - max 2\n",
    "    (2, '2'): (2, '2', 1),  # scan input - max 2\n",
    "    (2, '_'): (5, '_', 1),  # write output - 2\n",
    "\n",
    "    (3, '_'): (h, '2', 1),   # write 0 and halt\n",
    "    (4, '_'): (h, '1', 1),   # write 1 and halt\n",
    "    (5, '_'): (h, '0', 1),   # write 2 and halt\n",
    "}\n",
    "\n",
    "# Testing\n",
    "if __name__ == \"__main__\":\n",
    "    result_tape, result_rwh = Utm(T, df, rwh, q0)\n",
    "    print(\"Result Tape:\", result_tape)\n",
    "    print(\"Final Read-Write Head Position:\", result_rwh)"
   ]
  },
  {
   "cell_type": "markdown",
   "metadata": {},
   "source": [
    "#### Full Adder"
   ]
  },
  {
   "cell_type": "code",
   "execution_count": null,
   "metadata": {},
   "outputs": [],
   "source": [
    "# Full-adder\n",
    "\n",
    "from bcom import *\n",
    "\n",
    "# Input \n",
    "# T = \"000\"\n",
    "# T = \"001\"\n",
    "# T = \"101\"\n",
    "T = \"111\"\n",
    "rwh = 0  # Read-write head at index 0\n",
    "q0 = 0  # Initial state\n",
    "\n",
    "# Turing Machine description\n",
    "df = {\n",
    "    (0, '0'): (0, 'a', 1),  # Read input\n",
    "    (0, '1'): (1, 'b', 1),\n",
    "    (0, 'a'): (0, 'a', 1),\n",
    "    (0, 'b'): (0, 'b', 1),\n",
    "    (0, '_'): (5, '_', -1),\n",
    "\n",
    "    (1, '0'): (1, '0', 1),  # Find output\n",
    "    (1, '1'): (1, '1', 1),\n",
    "    (1, '_'): (2, '_', 1),\n",
    "\n",
    "    (2, '0'): (3, '1', 1),  # calculate output\n",
    "    (2, '1'): (3, '1', 1),\n",
    "    (2, '_'): (3, '0', 1),\n",
    "\n",
    "    (3, '0'): (4, '1', -1),\n",
    "    (3, '1'): (4, '0', -1),\n",
    "    (3, '_'): (4, '1', -1),\n",
    "\n",
    "    (4, '_'): (4, '_', -1),  # find input after calculation\n",
    "    (4, '0'): (4, '0', -1),\n",
    "    (4, '1'): (4, '1', -1),\n",
    "    (4, 'a'): (0, 'a', 1),\n",
    "    (4, 'b'): (0, 'b', 1),\n",
    "\n",
    "    (5, 'a'): (5, 'a', -1),  # find first input for resetting input\n",
    "    (5, 'b'): (5, 'b', -1),  \n",
    "    (5, '_'): (6, '_', 1),\n",
    "\n",
    "    (6, 'a'): (6, '0', 1),  # output answer\n",
    "    (6, 'b'): (6, '1', 1),\n",
    "    (6, '_'): (7, '_', 1),\n",
    "    \n",
    "    (7, '_'): (h, '0', 1),\n",
    "    (7, '0'): (h, '0', 1),\n",
    "    (7, '1'): (h, '1', 1)\n",
    "}\n",
    "\n",
    "# Testing\n",
    "if __name__ == \"__main__\":\n",
    "    result_tape, result_rwh = Utm(T, df, rwh, q0)\n",
    "    print(\"Result Tape:\", result_tape)\n",
    "    print(\"Final Read-Write Head Position:\", result_rwh)"
   ]
  },
  {
   "cell_type": "markdown",
   "metadata": {},
   "source": [
    "#### Copy String"
   ]
  },
  {
   "cell_type": "code",
   "execution_count": null,
   "metadata": {},
   "outputs": [
    {
     "name": "stdout",
     "output_type": "stream",
     "text": [
      "Result Tape: _AABBBA_AABBBA\n",
      "Final Read-Write Head Position: 1\n"
     ]
    }
   ],
   "source": [
    "# Copy string\n",
    "\n",
    "from bcom import *\n",
    "\n",
    "# Input\n",
    "T = \"AABBBA\"\n",
    "# T = \"AABBAA\"\n",
    "\n",
    "rwh = 0  # Read-write head at index 0\n",
    "q0 = 0  # Initial state\n",
    "\n",
    "# Turing Machine description\n",
    "df = {\n",
    "    (0, 'A'): (1, 'a', 1),  # make all smaller\n",
    "    (0, 'B'): (2, 'b', 1),  # make all smaller\n",
    "    (0, '_'): (6, '_', -1),\n",
    "    \n",
    "    (1, 'A'): (1, 'A', 1),\n",
    "    (1, 'B'): (1, 'B', 1),\n",
    "    (1, '_'): (3, '_', 1),\n",
    "    \n",
    "    (2, 'A'): (2, 'A', 1),\n",
    "    (2, 'B'): (2, 'B', 1),\n",
    "    (2, '_'): (4, '_', 1),\n",
    "    \n",
    "    (3, 'A'): (3, 'A', 1),\n",
    "    (3, 'B'): (3, 'B', 1),\n",
    "    (3, '_'): (5, 'A', -1),\n",
    "    \n",
    "    (4, 'A'): (4, 'A', 1),\n",
    "    (4, 'B'): (4, 'B', 1),\n",
    "    (4, '_'): (5, 'B', -1),\n",
    "    \n",
    "    (5, 'A'): (5, 'A', -1),\n",
    "    (5, 'B'): (5, 'B', -1),\n",
    "    (5, '_'): (5, '_', -1),\n",
    "    (5, 'a'): (0, 'a', 1),\n",
    "    (5, 'b'): (0, 'b', 1),\n",
    "    \n",
    "    (6, 'a'): (6, 'A', -1),\n",
    "    (6, 'b'): (6, 'B', -1),\n",
    "    (6, '_'): (h, '_', 1)\n",
    "}\n",
    "\n",
    "# Testing\n",
    "if __name__ == \"__main__\":\n",
    "    result_tape, result_rwh = Utm(T, df, rwh, q0)\n",
    "    print(\"Result Tape:\", result_tape)\n",
    "    print(\"Final Read-Write Head Position:\", result_rwh)"
   ]
  },
  {
   "cell_type": "code",
   "execution_count": 8,
   "metadata": {},
   "outputs": [
    {
     "name": "stdout",
     "output_type": "stream",
     "text": [
      "Result Tape: _AABBBA_AABBBA\n",
      "Final Read-Write Head Position: 1\n"
     ]
    }
   ],
   "source": [
    "myTechEmail = 'sha040' #only your email id emailID@latech.edu\n",
    "from bcom import *\n",
    "\n",
    "# 15 points\n",
    "\n",
    "# cannot contain syntax error\n",
    "\n",
    "# 1. This question is based on your state diagram on part A question 1.\n",
    "# Based on your state diagram, code a TM, that can be run on bcom.\n",
    "\n",
    "Q1q0 = 0 # e.g. Q1q0 = 0\n",
    "\n",
    "Q1df = {\n",
    "    (0, 'A'): (1, 'a', 1),\n",
    "    (0, 'B'): (2, 'b', 1),\n",
    "    (0, '_'): (6, '_', -1),\n",
    "    \n",
    "    (1, 'A'): (1, 'A', 1),\n",
    "    (1, 'B'): (1, 'B', 1),\n",
    "    (1, '_'): (3, '_', 1),\n",
    "    \n",
    "    (2, 'A'): (2, 'A', 1),\n",
    "    (2, 'B'): (2, 'B', 1),\n",
    "    (2, '_'): (4, '_', 1),\n",
    "    \n",
    "    (3, 'A'): (3, 'A', 1),\n",
    "    (3, 'B'): (3, 'B', 1),\n",
    "    (3, '_'): (5, 'A', -1),\n",
    "    \n",
    "    (4, 'A'): (4, 'A', 1),\n",
    "    (4, 'B'): (4, 'B', 1),\n",
    "    (4, '_'): (5, 'B', -1),\n",
    "    \n",
    "    (5, 'A'): (5, 'A', -1),\n",
    "    (5, 'B'): (5, 'B', -1),\n",
    "    (5, '_'): (5, '_', -1),\n",
    "    (5, 'a'): (0, 'a', 1),\n",
    "    (5, 'b'): (0, 'b', 1),\n",
    "    \n",
    "    (6, 'a'): (6, 'A', -1),\n",
    "    (6, 'b'): (6, 'B', -1),\n",
    "    (6, '_'): (h, '_', 1)} # Q1df is a dict\n",
    "\n",
    "\n",
    "if __name__ == '__main__':\n",
    "    # your testing codes within this if\n",
    "    T = \"AABBBA\"\n",
    "    result_tape, result_rwh = Utm(T, Q1df, 0, Q1q0)\n",
    "    print(\"Result Tape:\", result_tape)\n",
    "    print(\"Final Read-Write Head Position:\", result_rwh) # replay this line with your code\n",
    "\n",
    "\n",
    "\n"
   ]
  },
  {
   "cell_type": "markdown",
   "metadata": {},
   "source": [
    "#### Reverse string"
   ]
  },
  {
   "cell_type": "code",
   "execution_count": null,
   "metadata": {},
   "outputs": [
    {
     "name": "stdout",
     "output_type": "stream",
     "text": [
      "Result Tape: _AABBA_ABBAA\n",
      "Final Read-Write Head Position: 7\n"
     ]
    }
   ],
   "source": [
    "# Reverse string\n",
    "# T = \"AABBA\"\n",
    "# out\n",
    "# T = \"AABBA_ABBAA\"\n",
    "\n",
    "from bcom import *\n",
    "\n",
    "# Input \n",
    "T = \"AABBA\"\n",
    "# T = \"BAABA\"\n",
    "\n",
    "rwh = 0  # Read-write head at index 0\n",
    "q0 = 0  # Initial state\n",
    "\n",
    "# Turing Machine description\n",
    "df = {\n",
    "    (0, 'A'): (0, 'a', 1),  #lower the input\n",
    "    (0, 'B'): (0, 'b', 1),\n",
    "    (0, '_'): (1, 'c', -1),\n",
    "    \n",
    "    (1, 'A'): (1, 'A', -1), # check the input from reverse to copy A/B\n",
    "    (1, 'B'): (1, 'B', -1),\n",
    "    (1, 'a'): (2, 'A', 1),\n",
    "    (1, 'b'): (3, 'B', 1),\n",
    "    (1, '_'): (5, '_', 1),\n",
    "    \n",
    "    (2, 'a'): (2, 'a', 1),  # go to copying place to copy A\n",
    "    (2, 'b'): (2, 'b', 1),\n",
    "    (2, 'c'): (2, 'c', 1),\n",
    "    (2, 'A'): (2, 'A', 1),\n",
    "    (2, 'B'): (2, 'B', 1),\n",
    "    (2, '_'): (4, 'A', -1),\n",
    "    \n",
    "    (3, 'a'): (3, 'a', 1),  # go to copying place to copy A\n",
    "    (3, 'b'): (3, 'b', 1),\n",
    "    (3, 'c'): (3, 'c', 1),\n",
    "    (3, 'A'): (3, 'A', 1),\n",
    "    (3, 'B'): (3, 'B', 1),\n",
    "    (3, '_'): (4, 'B', -1),\n",
    "\n",
    "    (4, 'A'): (4, 'A', -1), # find input after copying A/B\n",
    "    (4, 'B'): (4, 'B', -1),\n",
    "    (4, 'c'): (1, 'c', -1),\n",
    "\n",
    "    (5, 'A'): (5, 'A', 1),  # find letter for copying\n",
    "    (5, 'B'): (5, 'B', 1),\n",
    "    (5, 'c'): (h, '_', 1),\n",
    "    \n",
    "    }\n",
    "\n",
    "# Testing\n",
    "if __name__ == \"__main__\":\n",
    "    result_tape, result_rwh = Utm(T, df, rwh, q0)\n",
    "    print(\"Result Tape:\", result_tape)\n",
    "    print(\"Final Read-Write Head Position:\", result_rwh)"
   ]
  },
  {
   "cell_type": "markdown",
   "metadata": {},
   "source": [
    "#### Search string"
   ]
  },
  {
   "cell_type": "code",
   "execution_count": null,
   "metadata": {},
   "outputs": [
    {
     "name": "stdout",
     "output_type": "stream",
     "text": [
      "Result Tape: 0005000005050_\n",
      "Final Read-Write Head Position: 14\n"
     ]
    }
   ],
   "source": [
    "# Search string\n",
    "# Search for 101 in the input string, replace it with 5.\n",
    "# T = \"0101100101010\" -> 0005000005050_\n",
    "# out\n",
    "# T = \"0005000005050\"\n",
    "\n",
    "from bcom import *\n",
    "\n",
    "# Input \n",
    "T = \"0101100101010\"\n",
    "# T = \"10101010101\"\n",
    "# T = \"11111111111\"\n",
    "# T = \"0000000000\"\n",
    "\n",
    "rwh = 0  # Read-write head at index 0\n",
    "q0 = 0  # Initial state\n",
    "\n",
    "# Turing Machine description\n",
    "df = {\n",
    "    (0, '0'): (0, '0', 1),\n",
    "    (0, '1'): (1, '0', 1),\n",
    "    (0, '_'): (h, '_', 1),\n",
    "        \n",
    "    (1, '0'): (2, '0', 1),\n",
    "    (1, '1'): (1, '0', 1),\n",
    "    (1, '_'): (h, '_', 1),\n",
    "\n",
    "    (2, '0'): (0, '0', 1),\n",
    "    (2, '1'): (1, '5', 1),\n",
    "    (2, '_'): (h, '_', 1),\n",
    "    }\n",
    "\n",
    "# Testing\n",
    "if __name__ == \"__main__\":\n",
    "    result_tape, result_rwh = Utm(T, df, rwh, q0)\n",
    "    print(\"Result Tape:\", result_tape)\n",
    "    print(\"Final Read-Write Head Position:\", result_rwh)"
   ]
  },
  {
   "cell_type": "markdown",
   "metadata": {},
   "source": [
    "#### Find and replace key"
   ]
  },
  {
   "cell_type": "code",
   "execution_count": 11,
   "metadata": {},
   "outputs": [
    {
     "name": "stdout",
     "output_type": "stream",
     "text": [
      "Result Tape: 031311131_\n",
      "Final Read-Write Head Position: 10\n"
     ]
    }
   ],
   "source": [
    "# Search string\n",
    "# In\n",
    "# T = \"021011101\"\n",
    "# Out\n",
    "# T = \"021211121\"\n",
    "\n",
    "from bcom import *\n",
    "\n",
    "# Input \n",
    "# T = \"021011101\"   # 021211121\n",
    "T = \"031011101\"   # 031311131\n",
    "# T = \"121011101\"     # 122022202\n",
    "# T = \"131011101\"     # 133033303\n",
    "\n",
    "rwh = 0  # Read-write head at index 0\n",
    "q0 = 0  # Initial state\n",
    "\n",
    "# Turing Machine description\n",
    "df = {\n",
    "    (0, '0'): (1, '0', 1),\n",
    "    (0, '1'): (4, '1', 1),\n",
    "        \n",
    "    (1, '2'): (2, '2', 1),\n",
    "    (1, '3'): (3, '3', 1),\n",
    "\n",
    "    (2, '0'): (2, '2', 1),\n",
    "    (2, '1'): (2, '1', 1),\n",
    "    (2, '_'): (h, '_', 1),\n",
    "\n",
    "    (3, '0'): (3, '3', 1),\n",
    "    (3, '1'): (3, '1', 1),\n",
    "    (3, '_'): (h, '_', 1),\n",
    "\n",
    "    (4, '2'): (5, '2', 1),\n",
    "    (4, '3'): (6, '3', 1),\n",
    "\n",
    "    (5, '0'): (5, '0', 1),\n",
    "    (5, '1'): (5, '2', 1),\n",
    "    (5, '_'): (h, '_', 1),\n",
    "\n",
    "    (6, '0'): (6, '0', 1),\n",
    "    (6, '1'): (6, '3', 1),\n",
    "    (6, '_'): (h, '_', 1),\n",
    "\n",
    "    }\n",
    "\n",
    "# Testing\n",
    "if __name__ == \"__main__\":\n",
    "    result_tape, result_rwh = Utm(T, df, rwh, q0)\n",
    "    print(\"Result Tape:\", result_tape)\n",
    "    print(\"Final Read-Write Head Position:\", result_rwh)"
   ]
  },
  {
   "cell_type": "markdown",
   "metadata": {},
   "source": [
    "### Rice's theorem"
   ]
  },
  {
   "cell_type": "markdown",
   "metadata": {},
   "source": [
    "#### All functions with 1 binary input and 1 binary output"
   ]
  },
  {
   "cell_type": "code",
   "execution_count": null,
   "metadata": {},
   "outputs": [],
   "source": [
    "Z = {0,1}\n",
    "AllFx = [{0:y0,1:y1} for y0 in Z for y1 in Z]\n",
    "nameAllFx = ['False', 'Identity', 'Not', 'True']"
   ]
  },
  {
   "cell_type": "markdown",
   "metadata": {},
   "source": [
    "#### All functions with 2 binary input and 1 binary output"
   ]
  },
  {
   "cell_type": "code",
   "execution_count": null,
   "metadata": {},
   "outputs": [
    {
     "data": {
      "text/plain": [
       "1"
      ]
     },
     "metadata": {},
     "output_type": "display_data"
    }
   ],
   "source": [
    "Z = {0,1}\n",
    "permutations = [(y3, y2, y1, y0) for y3 in Z for y2 in Z for y1 in Z for y0 in Z]\n",
    "functions = [{(a,b):y[2*a+b] for a in Z for b in Z} for y in permutations]\n",
    "# functions = list(enumerate(functions))\n",
    "\n",
    "# functions\n",
    "Zero = functions[0]     # return all zero/False\n",
    "And = functions[1]      # AND\n",
    "AgtB = functions[2]     # A > B\n",
    "EqA = functions[3]      # Return A\n",
    "AltB = functions[4]     # A < B\n",
    "EqB = functions[5]      # Return B\n",
    "Xor = functions[6]      # XOR\n",
    "Or = functions[7]       # OR\n",
    "Nor = functions[8]      # NOR\n",
    "AeqB = functions[9]     # A == B\n",
    "NotB = functions[10]    # Not B\n",
    "BthenA = functions[11]  # A >= B\n",
    "NotA = functions[12]    # Not A\n",
    "AthenB = functions[13]  # A <= B\n",
    "Nand = functions[14]    # NAND\n",
    "One = functions[15]     # Return all one/True\n",
    "\n",
    "AthenB[1,1]"
   ]
  },
  {
   "cell_type": "code",
   "execution_count": null,
   "metadata": {},
   "outputs": [
    {
     "data": {
      "text/plain": [
       "1"
      ]
     },
     "metadata": {},
     "output_type": "display_data"
    }
   ],
   "source": [
    "Z = {0,1}\n",
    "permutations = [(y3, y2, y1, y0) for y3 in Z for y2 in Z for y1 in Z for y0 in Z]\n",
    "functions = [{(a,b):y[2*a+b] for a in Z for b in Z} for y in permutations]\n",
    "# functions = list(enumerate(functions))\n",
    "\n",
    "# functions\n",
    "AthenB = functions[13]  # A <= B\n",
    "\n",
    "AthenB[1,1]"
   ]
  },
  {
   "cell_type": "markdown",
   "metadata": {},
   "source": [
    "### Halting Problems"
   ]
  },
  {
   "cell_type": "markdown",
   "metadata": {},
   "source": [
    "#### x^3 problem and function (in python that is x**3)"
   ]
  },
  {
   "cell_type": "code",
   "execution_count": null,
   "metadata": {},
   "outputs": [
    {
     "name": "stdout",
     "output_type": "stream",
     "text": [
      "{0, 1, 8}\n"
     ]
    }
   ],
   "source": [
    "def xpower3(rmax):\n",
    "    I = {i for i in range(rmax)}\n",
    "    S = {s**3 for s in I}\n",
    "    IxS = {(i,s) for i in I for s in S}\n",
    "    # i^3 is i to power of 3 problem\n",
    "    Q = {(i,s) for (i,s) in IxS if i**3 == s}\n",
    "    # i^3 funciton based on Q\n",
    "    Qf = lambda i: dict(Q)[i]\n",
    "\n",
    "    return I,S,IxS,Q,Qf\n",
    "\n",
    "if __name__ == '__main__':\n",
    "# your testing codes within this if\n",
    "\n",
    "# I = {i for i in range(6)}\n",
    "# S = {s**3 for s in I}\n",
    "# IxS = {(i,s) for i in I for s in S}\n",
    "# Q = {(i,s) for (i,s) in IxS if i**3 == s}\n",
    "# Qf = lambda i: dict(Q)[i]\n",
    "# Qf(3)\n",
    "\n",
    "\n",
    "    I, S, IxS, Q, Qf = xpower3(3)\n",
    "    print(S)"
   ]
  },
  {
   "cell_type": "markdown",
   "metadata": {},
   "source": [
    "#### Define function with lambda\n",
    "eg G = {(2,-3), (2, -5), (2, -8), (4, -2), (4,-1), (4,-5)}\n",
    "inG(2,{-3,-5,-8}) should return True\n",
    "where i = 2 and ss = {-3,-5,-8} see below:"
   ]
  },
  {
   "cell_type": "code",
   "execution_count": null,
   "metadata": {},
   "outputs": [
    {
     "name": "stdout",
     "output_type": "stream",
     "text": [
      "False\n"
     ]
    }
   ],
   "source": [
    "def inGQ(G):\n",
    "    #G = {(2,-3), (2, -5), (2, -8), (4, -2), (4,-1), (4,-5)}\n",
    "    #I = {i for (i,s) in G}\n",
    "    #S = {s for (i,s) in G}\n",
    "    #IxS = {(i,s) for i in I for s in S}\n",
    "    #Q = {i:{s for (iq,s) in G if iq==i} for i in I}\n",
    "\n",
    "    # define a function using lambda\n",
    "    inG = lambda i,ss: all((i,s) in G for s in ss)\n",
    "    #\"return True if input i and the set ss that contain solutions of i, else Flase\"\n",
    "    return inG\n",
    "\n",
    "if __name__ == '__main__':\n",
    "# your testing codes within this if\n",
    "    G = {(2,-3), (2, -5), (2, -8), (4, -2), (4,-1), (4,-5)}\n",
    "    f = inGQ(G)\n",
    "    print(f(2,{-2,-1,-5}))"
   ]
  },
  {
   "cell_type": "markdown",
   "metadata": {},
   "source": [
    "## Complexity Theory\n",
    "### Reducibility ordering\n",
    "Objective comparison of complexity.\n",
    "\n",
    "f(g(x)) is a composit function.\n",
    "Closed: addition is closed under positive number, but not always with subtraction (2-5=-3).\n",
    "\n",
    "The equation explanation: box B inside box A. A only converts number to string, B gives Yes/No output given input string. B is at least as complex as A.\n",
    "\n",
    "Polynomial functions are easier to solve.\n",
    "\n",
    "Power set, S: a set that contains all the subsets of S.\n",
    "Home work: def Pset(A:set)->set:\n",
    "\n",
    "Np complete: if you solve one of the NP complete problems, you'll solve all.\n",
    "\n",
    "Properties of reduction: reorder in last exam.\n",
    "\n",
    "### Descriptive ordering\n",
    "First order logic quantifiers: all, some (there exists (at least 1)).\n",
    "\n",
    "### Resource bound ordering"
   ]
  },
  {
   "cell_type": "markdown",
   "metadata": {},
   "source": [
    "#### Power set"
   ]
  },
  {
   "cell_type": "code",
   "execution_count": null,
   "metadata": {},
   "outputs": [
    {
     "name": "stdout",
     "output_type": "stream",
     "text": [
      "[[], [1], [2], [1, 2], [3], [1, 3], [2, 3], [1, 2, 3]]\n"
     ]
    }
   ],
   "source": [
    "def Pset(A:set)->list:\n",
    "    if len(A) == 0:\n",
    "        return [[]]\n",
    "    \n",
    "    subsets = Pset(A[:-1])\n",
    "    last_elem = A[-1]\n",
    "    subsets.extend([subset + [last_elem] for subset in subsets])\n",
    "    return subsets\n",
    "\n",
    "# Example usage:\n",
    "s = {1, 2, 3}\n",
    "result = Pset(list(s))\n",
    "print(result)\n"
   ]
  },
  {
   "cell_type": "markdown",
   "metadata": {},
   "source": [
    "#### Power empty list"
   ]
  },
  {
   "cell_type": "code",
   "execution_count": 17,
   "metadata": {},
   "outputs": [
    {
     "name": "stdout",
     "output_type": "stream",
     "text": [
      "[[], [[]], [[], [[]]]]\n"
     ]
    }
   ],
   "source": [
    "\"\"\"\n",
    "In math, natural numbers can be defined as sets within sets.\n",
    "In Python, we will define natural numbers as lists within lists.\n",
    "Define a fuction using lambda to map:\n",
    "0 to []\n",
    "1 to [[]]\n",
    "2 to [[], [[]]]\n",
    "3 to [[], [[]], [[], [[]]]]\n",
    "... and so on\n",
    "\"\"\"\n",
    "# Note: using only one line of code to get that done!\n",
    "\n",
    "N1 = lambda n: None if n < 0 else [] if n < 1 else N1(n-1) + [N1(n-1)]\n",
    "\n",
    "\n",
    "# test your code with numbers less then 10 as this def is computational costly\n",
    "if __name__ == \"__main__\":\n",
    "    print(N1(3))\n",
    "    pass"
   ]
  },
  {
   "cell_type": "markdown",
   "metadata": {},
   "source": [
    "#### Random search"
   ]
  },
  {
   "cell_type": "code",
   "execution_count": null,
   "metadata": {},
   "outputs": [],
   "source": [
    "# Non deterministic algorithm\n",
    "from random import randrange\n",
    "\n",
    "def randsearch(L:list, key:int) -> bool:\n",
    "    c = 0\n",
    "    while L != []:\n",
    "        #guessing\n",
    "        gi = randrange(len(L))\n",
    "        c += 1\n",
    "        #verify\n",
    "        if L[gi] == key:\n",
    "            return True, c\n",
    "        del L[gi]\n",
    "    return False, c\n",
    "\n",
    "print(randsearch([2,3,5,1,6,6,7,2,9],1))"
   ]
  },
  {
   "cell_type": "code",
   "execution_count": null,
   "metadata": {},
   "outputs": [
    {
     "name": "stdout",
     "output_type": "stream",
     "text": [
      "(3, 9)\n"
     ]
    }
   ],
   "source": [
    "from random import randrange\n",
    "\n",
    "def randsearch(L:list, key:int) -> int:\n",
    "    c = 0\n",
    "    L = list(enumerate(L))\n",
    "    while L!= []:\n",
    "        # guess\n",
    "        gi = randrange(len(L))\n",
    "        c += 1\n",
    "        # verify\n",
    "        if L[gi][1] == key:\n",
    "            return L[gi][0], c\n",
    "        del L[gi]\n",
    "    return None, c\n",
    "\n",
    "print(randsearch([2,3,5,1,6,6,7,2,9],1))"
   ]
  },
  {
   "cell_type": "markdown",
   "metadata": {},
   "source": [
    "#### Delete random number from list"
   ]
  },
  {
   "cell_type": "code",
   "execution_count": 4,
   "metadata": {},
   "outputs": [
    {
     "name": "stdout",
     "output_type": "stream",
     "text": [
      "({2, 3, 4, 5}, 1)\n"
     ]
    }
   ],
   "source": [
    "from random import randrange\n",
    "\n",
    "def randel(delv: int, S: set) -> (set, int):\n",
    "    \"\"\"Find a number delv using non-deterministic polynomial (NP) algorithm.\n",
    "    As soon as found, delete the number delv, return the resultant set \n",
    "    with the other numbers unchanged.\n",
    "    Input delv to be found, if found delete it else no change to the set.\n",
    "    S contains a set of int, output the resultant set, count_steps.\n",
    "    The number of comparisons should be <= len(S), i.e. count_steps <= len(S).\n",
    "    \"\"\"\n",
    "    L = list(S)\n",
    "    c = 0\n",
    "    while L != []:\n",
    "        if delv not in L:\n",
    "            return (set(L), c)\n",
    "        else:\n",
    "            # guessing\n",
    "            gi = randrange(len(L))\n",
    "            c += 1\n",
    "            # verify\n",
    "            if L[gi] == delv:\n",
    "                del L[gi]\n",
    "                return (set(L), c)\n",
    "    return None, c\n",
    "\n",
    "if __name__ == \"__main__\":\n",
    "    # your testing codes inside this if\n",
    "    S = {1, 2, 3, 4, 5}\n",
    "    print(randel(1, S))"
   ]
  },
  {
   "cell_type": "markdown",
   "metadata": {},
   "source": [
    "#### Find max"
   ]
  },
  {
   "cell_type": "code",
   "execution_count": 15,
   "metadata": {},
   "outputs": [
    {
     "name": "stdout",
     "output_type": "stream",
     "text": [
      "(9, 4)\n"
     ]
    }
   ],
   "source": [
    "def find_max(alist):\n",
    "    c = 0\n",
    "    if not alist:\n",
    "        return None, c\n",
    "\n",
    "    max_val = alist[0]\n",
    "    for element in alist:\n",
    "        c += 1\n",
    "        if element > max_val:\n",
    "            max_val = element\n",
    "\n",
    "    return max_val, c\n",
    "\n",
    "xlist = [1,3,9,2]\n",
    "print(find_max(xlist))"
   ]
  }
 ],
 "metadata": {
  "kernelspec": {
   "display_name": "base",
   "language": "python",
   "name": "python3"
  },
  "language_info": {
   "codemirror_mode": {
    "name": "ipython",
    "version": 3
   },
   "file_extension": ".py",
   "mimetype": "text/x-python",
   "name": "python",
   "nbconvert_exporter": "python",
   "pygments_lexer": "ipython3",
   "version": "3.12.7"
  }
 },
 "nbformat": 4,
 "nbformat_minor": 2
}
