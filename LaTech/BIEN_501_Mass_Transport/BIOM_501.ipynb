{
 "cells": [
  {
   "cell_type": "code",
   "execution_count": null,
   "metadata": {},
   "outputs": [
    {
     "name": "stdout",
     "output_type": "stream",
     "text": [
      "First rectangle at 1.4mm to 1.55 mm\n",
      "Last rectangle at 23.85mm to 24 mm\n",
      "Middle rectangle midpoint at 12.7mm, at 12.625 mm to 12.775 mm\n",
      "Difference of the first two channel is 11.075mm and the difference of the last two channel is 11.075mm\n"
     ]
    }
   ],
   "source": [
    "150*10**-3\n",
    "\n",
    "# Total slide 0 - 25.4mm X 0-76.2mm\n",
    "# design from 1.4mm to 24mm\n",
    "print(f'First rectangle at {1.4}mm to {round(1.4+0.15,2)} mm')\n",
    "print(f'Last rectangle at {round(24-0.15,2)}mm to {24} mm')\n",
    "print(f'Middle rectangle midpoint at {round((1.4 + 24)/2,3)}mm, at {round((1.4 + 24)/2-(0.15/2),3)} mm to {round((1.4 + 24)/2+(0.15/2),3)} mm')\n",
    "print(f'Difference of the first two channel is {round(12.625-1.55, 3)}mm and the difference of the last two channel is {round(23.85-12.775,3)}mm')\n",
    "\n"
   ]
  },
  {
   "cell_type": "markdown",
   "metadata": {},
   "source": []
  }
 ],
 "metadata": {
  "kernelspec": {
   "display_name": "base",
   "language": "python",
   "name": "python3"
  },
  "language_info": {
   "codemirror_mode": {
    "name": "ipython",
    "version": 3
   },
   "file_extension": ".py",
   "mimetype": "text/x-python",
   "name": "python",
   "nbconvert_exporter": "python",
   "pygments_lexer": "ipython3",
   "version": "3.12.7"
  }
 },
 "nbformat": 4,
 "nbformat_minor": 2
}
