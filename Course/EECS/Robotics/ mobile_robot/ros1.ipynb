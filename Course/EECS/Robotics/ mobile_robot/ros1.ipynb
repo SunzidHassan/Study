{
 "cells": [
  {
   "cell_type": "markdown",
   "metadata": {},
   "source": [
    "# Docker Setup\n",
    "Install docker engine for Ubuntu using the convenience script > Post-installation steps.\n",
    "\n",
    "Install remote development extension in VSCode."
   ]
  },
  {
   "cell_type": "markdown",
   "metadata": {},
   "source": [
    "# ROS1"
   ]
  },
  {
   "cell_type": "markdown",
   "metadata": {},
   "source": [
    "## Turtlebot3 PC setup\n",
    "### ROS Noetic Dev Container Setup\n",
    "### Turtlebot3 installation"
   ]
  },
  {
   "cell_type": "markdown",
   "metadata": {
    "vscode": {
     "languageId": "plaintext"
    }
   },
   "source": [
    "```bash\n",
    "sudo apt-get install ros-noetic-joy ros-noetic-teleop-twist-joy \\\n",
    "  ros-noetic-teleop-twist-keyboard ros-noetic-laser-proc \\\n",
    "  ros-noetic-rgbd-launch ros-noetic-rosserial-arduino \\\n",
    "  ros-noetic-rosserial-python ros-noetic-rosserial-client \\\n",
    "  ros-noetic-rosserial-msgs ros-noetic-amcl ros-noetic-map-server \\\n",
    "  ros-noetic-move-base ros-noetic-urdf ros-noetic-xacro \\\n",
    "  ros-noetic-compressed-image-transport ros-noetic-rqt* ros-noetic-rviz \\\n",
    "  ros-noetic-gmapping ros-noetic-navigation ros-noetic-interactive-markers\n",
    "\n",
    "sudo apt install ros-noetic-dynamixel-sdk\n",
    "sudo apt install ros-noetic-turtlebot3-msgs\n",
    "sudo apt install ros-noetic-turtlebot3\n",
    "\n",
    "hostname -I\n",
    "\n",
    "nano ~/.bashrc\n",
    "\n",
    "export ROS_MASTER_URI=http://192.168.0.100:11311\n",
    "export ROS_HOSTNAME=192.168.0.100\n",
    "\n",
    "source ~/.bashrc\n",
    "```"
   ]
  },
  {
   "cell_type": "markdown",
   "metadata": {},
   "source": [
    "### Remote PC cmd imports"
   ]
  },
  {
   "cell_type": "code",
   "execution_count": null,
   "metadata": {
    "vscode": {
     "languageId": "plaintext"
    }
   },
   "outputs": [],
   "source": [
    "hostname -I  # check ip address\n",
    "\n",
    "nano ~/.bashrc\n",
    "\n",
    "export ROS_MASTER_URI=http://{IP_ADDRESS_OF_REMOTE_PC}:11311\n",
    "export ROS_HOSTNAME={IP_ADDRESS_OF_RASPBERRY_PI_3}\n",
    "\n",
    "source ~/.bashrc"
   ]
  },
  {
   "cell_type": "markdown",
   "metadata": {},
   "source": [
    "### Workspace"
   ]
  },
  {
   "cell_type": "code",
   "execution_count": null,
   "metadata": {
    "vscode": {
     "languageId": "plaintext"
    }
   },
   "outputs": [],
   "source": [
    "mkdir catkin_ws && cd catkin_ws && mkdir src\n",
    "\n",
    "catkin_make\n",
    "\n",
    "add: source $home/ros1_ws/catkin_ws/devel/setup.bash with nano ~/.bashrc and source ~/.bashrc\n",
    "or add: source $home/Turtlebot3/catkin_ws/devel/setup.bash with nano ~/.bashrc and source ~/.bashrc\n",
    "etc.\n",
    "\n",
    "cd catkin_ws/src\n",
    "\n",
    "catkin_create_pkg my_robot_controller rospy"
   ]
  },
  {
   "cell_type": "markdown",
   "metadata": {},
   "source": [
    "### Required packages"
   ]
  },
  {
   "cell_type": "code",
   "execution_count": null,
   "metadata": {
    "vscode": {
     "languageId": "plaintext"
    }
   },
   "outputs": [],
   "source": [
    "src/my_robot_controller/package.xml\n",
    "\n",
    "<?xml version=\"1.0\"?>\n",
    "<package format=\"2\">\n",
    "  <name>my_robot_controller</name>\n",
    "  <version>0.0.0</version>\n",
    "  <description>The my_robot_controller package</description>\n",
    "\n",
    "  <maintainer email=\"sunzid@todo.todo\">sunzid</maintainer>\n",
    "  <license>TODO</license>\n",
    "\n",
    "  <!-- <author email=\"jane.doe@example.com\">Jane Doe</author> -->\n",
    "\n",
    "  <buildtool_depend>catkin</buildtool_depend>\n",
    "  <build_depend>actionlib</build_depend>\n",
    "  <build_depend>geometry_msgs</build_depend>\n",
    "  <build_depend>move_base_msgs</build_depend>\n",
    "  <build_depend>rospy</build_depend>\n",
    "  <build_depend>sensor_msgs</build_depend>\n",
    "  <build_depend>pytorch</build_depend>\n",
    "  <build_depend>turtlesim</build_depend>\n",
    "  <build_depend>turtlebot3_msgs</build_depend>\n",
    "  <build_depend>nav_msgs</build_depend>\n",
    "  <build_depend>tf</build_depend>\n",
    "  <build_depend>tf2_msgs</build_depend>\n",
    "  \n",
    "  <build_export_depend>actionlib</build_export_depend>\n",
    "  <build_export_depend>geometry_msgs</build_export_depend>\n",
    "  <build_export_depend>move_base_msgs</build_export_depend>\n",
    "  <build_export_depend>rospy</build_export_depend>\n",
    "  <build_export_depend>sensor_msgs</build_export_depend>\n",
    "  <build_export_depend>pytorch</build_export_depend>\n",
    "  <build_export_depend>turtlesim</build_export_depend>\n",
    "  <build_export_depend>turtlebot3_msgs</build_export_depend>\n",
    "  <build_export_depend>nav_msgs</build_export_depend>\n",
    "  <build_export_depend>tf</build_export_depend>\n",
    "  <build_export_depend>tf2_msgs</build_export_depend>\n",
    "  \n",
    "  <exec_depend>actionlib</exec_depend>\n",
    "  <exec_depend>geometry_msgs</exec_depend>\n",
    "  <exec_depend>move_base_msgs</exec_depend>\n",
    "  <exec_depend>rospy</exec_depend>\n",
    "  <exec_depend>sensor_msgs</exec_depend>\n",
    "  <exec_depend>pytorch</exec_depend>\n",
    "  <exec_depend>turtlesim</exec_depend>\n",
    "  <exec_depend>turtlebot3_msgs</exec_depend>\n",
    "  <exec_depend>nav_msgs</exec_depend>\n",
    "  <exec_depend>tf</exec_depend>\n",
    "  <exec_depend>tf2_msgs</exec_depend>\n",
    "\n",
    "\n",
    "  <export>\n",
    "  </export>\n",
    "</package>"
   ]
  },
  {
   "cell_type": "markdown",
   "metadata": {},
   "source": [
    "## ROS1 Commands"
   ]
  },
  {
   "cell_type": "code",
   "execution_count": null,
   "metadata": {
    "vscode": {
     "languageId": "shellscript"
    }
   },
   "outputs": [],
   "source": [
    "192.168.0.101\n",
    "\n",
    "\n",
    "roscore\n",
    "\n",
    "ssh ubuntu@192.168.0.102\n",
    "(pass: turtlebot)\n",
    "export TURTLEBOT3_MODEL=$waffle_pi\n",
    "roslaunch turtlebot3_bringup turtlebot3_robot.launch\n",
    "\n",
    "#camera\n",
    "roslaunch turtlebot3_bringup turtlebot3_rpicamera.launch\n",
    "\n",
    "rqt_image_view\n",
    "\n",
    "# Update mapnew2.yaml\n",
    "# image: mapnew2.pgm\n",
    "\n",
    "# launch map\n",
    "export TURTLEBOT3_MODEL=waffle_pi\n",
    "roslaunch turtlebot3_navigation turtlebot3_navigation.launch map_file:=$HOME/turtlebot_slam_map/mapnew2.yaml\n",
    "\n",
    "roslaunch turtlebot3_navigation turtlebot3_navigation.launch map_file:=/Turtlebot3/turtlebot_slam_map/mapnew2.yaml\n",
    "\n",
    "\n",
    "#teleop using keyboard\n",
    "export TURTLEBOT3_MODEL=$waffle_pi\n",
    "roslaunch turtlebot3_teleop turtlebot3_teleop_key.launch\n",
    "\n",
    "\n",
    "# Publish goal\n",
    "rostopic pub /move_base_simple/goal geometry_msgs/PoseStamped '{ header: {stamp: now, frame_id: \"map\"}, pose: { position: {x: 2.2, y: 2.6, z: 0.0}, orientation: {z: 0.05, w: 1.0}}}'\n",
    "\n",
    "rostopic pub /move_base_simple/goal geometry_msgs/PoseStamped '{ header: {stamp: now, frame_id: \"map\"}, pose: { position: {x: 2.6, y: 0.2, z: 0.0}, orientation: {z: 0.05, w: 1.0}}}'\n",
    "\n",
    "rostopic pub /move_base_simple/goal geometry_msgs/PoseStamped '{ header: {stamp: now, frame_id: \"map\"}, pose: { position: {x: 0.2, y: -0.2, z: 0.0}, orientation: {z: 0.05, w: 1.0}}}'\n",
    "\n",
    "rostopic pub /move_base_simple/goal geometry_msgs/PoseStamped '{ header: {stamp: now, frame_id: \"map\"}, pose: { position: {x: -0.2, y: 2.2, z: 0.0}, orientation: {z: 0.05, w: 1.0}}}'\n",
    "\n",
    "# topic monitor\n",
    "rqt\n",
    "rqt_graph\n",
    "\n",
    "\n",
    "# topic information\n",
    "rostopic info /\"Topic_Name\"\n",
    "rosmsg show \"Topic_Type\"\n",
    "rostopic echo /\"TOPIC_NAME\"\n",
    "\n",
    "\n",
    "\n",
    "#Gazebo simulation\n",
    "export TURTLEBOT3_MODEL=waffle_pi\n",
    "roslaunch turtlebot3_gazebo turtlebot3_empty_world.launch\n",
    "roslaunch turtlebot3_gazebo turtlebot3_world.launch\n",
    "\n",
    "\n",
    "#Slam mapping\n",
    "export TURTLEBOT3_MODEL=waffle_pi\n",
    "roslaunch turtlebot3_slam turtlebot3_slam.launch\n",
    "\n",
    "# save slam map\n",
    "rosrun map_server map_saver -f ~/turtlebot_slam_map/mapnew1\n",
    "\n",
    "\n",
    "\n",
    "########################################3\n",
    "\n",
    "\n",
    "# arduino code:\n",
    "cd tools/\n",
    "./arduino-ide_2.1.0_Linux_64bit.AppImage\n",
    "\n",
    "########################################3\n",
    "\n",
    "LLM Nav:\n",
    "\n",
    "rostopic pub /move_base_simple/goal geometry_msgs/PoseStamped '{ header: {stamp: now, frame_id: \"map\"}, pose: { position: {x: -2.9, y: 1.5, z: 0.0}, orientation: {z: 0.45, w: -0.55}}}'\n",
    "\n",
    "2.\n",
    "rostopic pub /move_base_simple/goal geometry_msgs/PoseStamped '{ header: {stamp: now, frame_id: \"map\"}, pose: { position: {x: -3.08, y: 0.5, z: 0.0}, orientation: {z: 0.05, w: 0.95}}}'\n",
    "\n",
    "3.\n",
    "rostopic pub /move_base_simple/goal geometry_msgs/PoseStamped '{ header: {stamp: now, frame_id: \"map\"}, pose: { position: {x: -2.6, y: -0.4, z: 0.0}, orientation: {z: 0.55, w: 0.45}}}'\n",
    "\n",
    "4.\n",
    "rostopic pub /move_base_simple/goal geometry_msgs/PoseStamped '{ header: {stamp: now, frame_id: \"map\"}, pose: { position: {x: -2.0, y: 0.6, z: 0.0}, orientation: {z: 0.95, w: -0.05}}}'\n",
    "\n",
    "5.\n",
    "rostopic pub /move_base_simple/goal geometry_msgs/PoseStamped '{ header: {stamp: now, frame_id: \"map\"}, pose: { position: {x: -1.7, y: 0.8, z: 0.0}, orientation: {z: 0.05, w: 0.95}}}'\n",
    "\n",
    "\n",
    "\n",
    "########################################3\n",
    "\n",
    "Fusion Nav:\n",
    "\n",
    "Starting positions:\n",
    "1.\n",
    "rostopic pub /move_base_simple/goal geometry_msgs/PoseStamped '{ header: {stamp: now, frame_id: \"map\"}, pose: { position: {x: -2.9, y: 1.5, z: 0.0}, orientation: {z: -0.6, w: 1.0}}}'\n",
    "\n",
    "2.\n",
    "rostopic pub /move_base_simple/goal geometry_msgs/PoseStamped '{ header: {stamp: now, frame_id: \"map\"}, pose: { position: {x: -3.08, y: 0.5, z: 0.0}, orientation: {z: -0.03, w: 35.0}}}'\n",
    "\n",
    "3.\n",
    "rostopic pub /move_base_simple/goal geometry_msgs/PoseStamped '{ header: {stamp: now, frame_id: \"map\"}, pose: { position: {x: -2.6, y: -0.4, z: 0.0}, orientation: {z: 0.7, w: 0.7}}}'\n",
    "\n",
    "4.\n",
    "rostopic pub /move_base_simple/goal geometry_msgs/PoseStamped '{ header: {stamp: now, frame_id: \"map\"}, pose: { position: {x: -2.0, y: 0.6, z: 0.0}, orientation: {z: 1.0, w: -0.07}}}'\n",
    "\n",
    "5.\n",
    "rostopic pub /move_base_simple/goal geometry_msgs/PoseStamped '{ header: {stamp: now, frame_id: \"map\"}, pose: { position: {x: -1.8, y: 0.7, z: 0.0}, orientation: {z: 0.01, w: 0.1}}}'\n"
   ]
  },
  {
   "cell_type": "markdown",
   "metadata": {},
   "source": [
    "## Running script"
   ]
  },
  {
   "cell_type": "code",
   "execution_count": null,
   "metadata": {
    "vscode": {
     "languageId": "shellscript"
    }
   },
   "outputs": [],
   "source": [
    "cd /Turtlebot3/catkin_ws/src/my_robot_controller/scripts\n",
    "chmod +x turtlebot_LLM_nav3.py\n",
    "# run the script\n",
    "rosrun my_robot_controller turtlebot_LLM_nav3.py"
   ]
  },
  {
   "cell_type": "markdown",
   "metadata": {},
   "source": [
    "## "
   ]
  }
 ],
 "metadata": {
  "language_info": {
   "name": "python"
  }
 },
 "nbformat": 4,
 "nbformat_minor": 2
}
