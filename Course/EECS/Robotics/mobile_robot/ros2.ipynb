{
 "cells": [
  {
   "cell_type": "markdown",
   "metadata": {},
   "source": [
    "# Docker Setup\n",
    "Install docker engine for Ubuntu using the convenience script > Post-installation steps.\n",
    "\n",
    "Install remote development extension in VSCode."
   ]
  },
  {
   "cell_type": "markdown",
   "metadata": {},
   "source": [
    "# ROS2"
   ]
  },
  {
   "cell_type": "markdown",
   "metadata": {},
   "source": [
    "gedit ~/.bashrc  \n",
    "add: source /opt/ros/humble/setup.bash  \n",
    "source ~/.bashrc  \n",
    "\n",
    "## Node\n",
    "```bash\n",
    "ros2 run PACKAGE NODE  \n",
    "ros2 run demo_nodes_cpp talker  \n",
    "ros2 run demo_nodes_cpp listener  \n",
    "```\n",
    "\n",
    "Here, /talker node is publishing /chatter topic, and /listener node is subscribing to it.  \n",
    "\n",
    "ros2 run turtlesim turtlesim_node  \n",
    "\n",
    "## ROS2 workspace\n",
    "```bash\n",
    "sudo apt install python3-colcon-common-extensions  \n",
    "gedit ~/.bashrc  \n",
    "add: source /usr/share/colcon_argcomplete/hook/colcon-argcomplete.bash  \n",
    "source ~/.bashrc  \n",
    "```\n",
    "\n",
    "Create a workspace (folder):  \n",
    "```bash\n",
    "mkdir ros2_ws && cd ros2_ws && mkdir src  \n",
    "colcon build  \n",
    "```\n",
    "\n",
    "Source the new package installation everytime you want to use the package with:\n",
    "```bash\n",
    "source ~/ros2_ws/install/setup.bash  \n",
    "```\n",
    "Or,  \n",
    "```bash\n",
    "gedit ~/.bashrc  \n",
    "add: source ~/ros2_ws/install/setup.bash  \n",
    "source ~/.bashrc  \n",
    "```\n",
    "## ROS2 Package\n",
    "```bash\n",
    "cd src/  \n",
    "ros2 pkg create PACKAGE_NAME --build-type ament_python --dependencies rclpy  \n",
    "\n",
    "cd ..  \n",
    "colcon build  \n",
    "```\n",
    "## ROS2 Node\n",
    "```bash\n",
    "cd ros2_ws/ros2_ws/src/my_robot_controller/my_robot_controller$  \n",
    "touch my_first_node.py  \n",
    "chmod +x my_first_node.py  \n",
    "```\n",
    "My First Node:  \n",
    "```python\n",
    "#!/usr/bin/env python3  \n",
    "import rclpy  \n",
    "```\n"
   ]
  },
  {
   "cell_type": "markdown",
   "metadata": {
    "vscode": {
     "languageId": "plaintext"
    }
   },
   "source": [
    "## Template node\n",
    "```python\n",
    "#!/usr/bin/env python3\n",
    "import rclpy\n",
    "from rclpy.node import Node\n",
    "\n",
    "# We create a Node class and inherit from rclpy.node object\n",
    "class MyNode(Node):\n",
    "    # Initiatize the node by proving a node name\n",
    "    def __init__(self):\n",
    "        super().__init__(\"first_node\")\n",
    "\n",
    "\n",
    "def main(args=None):\n",
    "    # Initiate ros2 communication\n",
    "    rclpy.init(args=args)\n",
    "\n",
    "    # Create node\n",
    "    node = MyNode()\n",
    "\n",
    "    # Stop ros2 communication\n",
    "    rclpy.shutdown()\n",
    "\n",
    "if __name__ == '__main__':\n",
    "    main ()\n",
    "```"
   ]
  },
  {
   "cell_type": "markdown",
   "metadata": {
    "vscode": {
     "languageId": "plaintext"
    }
   },
   "source": [
    "b## Example node: publishes Hello continuously\n",
    "```python\n",
    "#!/usr/bin/env python3\n",
    "import rclpy\n",
    "from rclpy.node import Node\n",
    "\n",
    "# We create a Node class and inherit from rclpy.node object\n",
    "class MyNode(Node):\n",
    "    # Initiatize the node by proving a node name\n",
    "    def __init__(self):\n",
    "        super().__init__(\"first_node\")\n",
    "        self.counter_ = 0\n",
    "        self.create_timer(1.0, self.timer_callback)\n",
    "\n",
    "    def timer_callback(self):\n",
    "        self.get_logger().info(\"Hello\" + str(self.counter_))\n",
    "        self.counter_ += 1\n",
    "\n",
    "def main(args=None):\n",
    "    # Initiate ros2 communication\n",
    "    rclpy.init(args=args)\n",
    "\n",
    "    # Create node\n",
    "    node = MyNode()\n",
    "\n",
    "    # Keep the node alive\n",
    "    rclpy.spin(node)\n",
    "\n",
    "    # Stop ros2 communication\n",
    "    rclpy.shutdown()\n",
    "\n",
    "if __name__ == '__main__':\n",
    "    main ()\n",
    "```"
   ]
  },
  {
   "cell_type": "code",
   "execution_count": null,
   "metadata": {
    "vscode": {
     "languageId": "shellscript"
    }
   },
   "outputs": [],
   "source": []
  },
  {
   "cell_type": "code",
   "execution_count": null,
   "metadata": {
    "vscode": {
     "languageId": "plaintext"
    }
   },
   "outputs": [],
   "source": [
    "To add the node to ros2 run:\n",
    "src/my_robot_controller/setup.py\n",
    "    entry_points={\n",
    "        'console_scripts': [\n",
    "            # \"ExecutableName = PackageName.FileName:main\"\n",
    "            \"test_node = my_robot_controller.my_first_node:main\"\n",
    "        ],\n",
    "\n",
    "Then go to workspace folder and execute:\n",
    "colcon build  --symlink-install\n",
    "source install/setup.bash [from ros2_ws/ directory]\n",
    "ros2 run my_robot_controller test_node\n",
    "\n",
    "ros2 node list\n",
    "ros2 node info /first_node"
   ]
  },
  {
   "cell_type": "markdown",
   "metadata": {},
   "source": [
    "## ROS2 Topic\n",
    "Nodes don't directly talk to each other. Publisher node publishes a Topic, subscriber node can subscribe to it.  \n",
    "Topics have specified data types, e.g., std_msgs, geometry_msgs, etc.\n",
    "\n",
    "Print \n",
    "ros2 topic list\n",
    "\n",
    "ros2 topic info /TOPIC_NAME\n",
    "\n",
    "ros2 topic echo /TOPIC_NAME\n",
    "\n",
    "ros2 interface show std_msgs/msg/String\n",
    "\n",
    "ros2 topic hz /TOPIC_NAME for topic publishing rate\n",
    "\n",
    "## Python Topic Publisher\n",
    "self.create_publisher(Message_Type, \"topic_name\", queue_size)\n",
    "\n",
    "In this case: from geometry_msgs.msg import Twist\n",
    "\n",
    "In package.xml, we'll add two dependencies:\n",
    "<depend>geometry_msgs</depend>\n",
    "<depend>turtlesim</depend>\n"
   ]
  },
  {
   "cell_type": "code",
   "execution_count": null,
   "metadata": {
    "vscode": {
     "languageId": "plaintext"
    }
   },
   "outputs": [],
   "source": [
    "#!/usr/bin/env python3\n",
    "import rclpy\n",
    "from rclpy.node import Node\n",
    "from geometry_msgs.msg import Twist\n",
    "\n",
    "class DrawCircleNode(Node):\n",
    "    def __init__(self) -> None:\n",
    "        super().__init__(\"draw_circle\")\n",
    "        self.cmd_vel_pub_ = self.create_publisher(Twist, \"/turtle1/cmd_vel\", 10)\n",
    "        self.timer = self.create_timer(0.5, self.send_velocity_command)\n",
    "        self.get_logger().info(\"Draw circle node has been started\")\n",
    "\n",
    "    def send_velocity_command(self):\n",
    "        msg = Twist() # create a msg object from Twist() class\n",
    "        msg.linear.x = 2.0\n",
    "        msg.angular.z = 1.0\n",
    "        self.cmd_vel_pub_.publish(msg)\n",
    "\n",
    "\n",
    "def main(args=None):\n",
    "    rclpy.init(args=args)\n",
    "    node = DrawCircleNode()\n",
    "    rclpy.spin(node)\n",
    "    rclpy.shutdown()"
   ]
  },
  {
   "cell_type": "markdown",
   "metadata": {},
   "source": [
    "## Python Topic Subscriber\n",
    "\n",
    "self.pose_subscriber = self.create_subscription(topic_type, \"topic_name\", callback_function, 10)\n",
    "\n",
    "## Python closed loop control\n"
   ]
  },
  {
   "cell_type": "code",
   "execution_count": null,
   "metadata": {
    "vscode": {
     "languageId": "plaintext"
    }
   },
   "outputs": [],
   "source": [
    "#!/usr/bin/env python3\n",
    "import rclpy\n",
    "from rclpy.node import Node\n",
    "from turtlesim.msg import Pose\n",
    "\n",
    "class poseSubscriberNode(Node):\n",
    "    def __init__(self):\n",
    "        super.__init__(\"pose_subscriber\")\n",
    "        self.pose_subscriber = self.create_subscription(Pose, \"turtle1/pose\", self.pose_callback, 10)\n",
    "    \n",
    "    def pose_callback(self, msg: Pose):\n",
    "        self.get_logger().info(str(msg))\n",
    "\n",
    "def main(args=None):\n",
    "    rclpy.init(args=args)\n",
    "    node = poseSubscriberNode()\n",
    "    rclpy.spin(node)\n",
    "    rclpy.shutdown()"
   ]
  },
  {
   "cell_type": "markdown",
   "metadata": {},
   "source": [
    "## ROS2 Services\n",
    "For a request-answer type client-server system.\n",
    "\n",
    "ros2 run demo_nodes_cpp add_two_ints_server\n",
    "\n",
    "ros2 service list\n",
    "\n",
    "ros2 service type /SERVICE_NAME\n",
    "\n",
    "ros2 interface show /SERVICE_TYPE\n",
    "\n",
    "ros2 service call /add_two_ints example_interfaces/srv/AddTwoInts \"{'a':2,'b':5}\"\n",
    "\n",
    "We use services in two cases:\n",
    "1. Computation\n",
    "2. Settings change: e.g., changing pen color of turtlesim.\n",
    "\n",
    "When to use topic: when we send data.\n",
    "When to user service: when we need answer to requests."
   ]
  },
  {
   "cell_type": "markdown",
   "metadata": {},
   "source": [
    "# Gazebo\n",
    "\n",
    "ROS uses URDF file for models, Gazebo uses SDF files. An entire environment is an SDF file, and each element in that world can be an SDF file."
   ]
  },
  {
   "cell_type": "markdown",
   "metadata": {},
   "source": [
    "Cleaning build artifacts (deleted packages):\n",
    "\n",
    "cd ~/ros2_ws\n",
    "rm -rf build/ install/ log/"
   ]
  },
  {
   "cell_type": "markdown",
   "metadata": {},
   "source": [
    "## "
   ]
  }
 ],
 "metadata": {
  "language_info": {
   "name": "python"
  }
 },
 "nbformat": 4,
 "nbformat_minor": 2
}
