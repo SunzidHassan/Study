{
 "cells": [
  {
   "cell_type": "markdown",
   "id": "0232ce53",
   "metadata": {},
   "source": [
    "# Jetson Orin Nano\n",
    "Connect: ssh sunzid@192.168.0.110\n",
    "\n"
   ]
  },
  {
   "cell_type": "markdown",
   "id": "3b08b825",
   "metadata": {},
   "source": [
    "# [Jetson AI Lab](https://www.jetson-ai-lab.com/index.html)\n",
    "\n",
    "\n",
    "## Initial Setup\n",
    "- Setup jetson with latest Jetpack using SDK.\n",
    "- Install CUDA toolkit and nvidia-container with SDK.\n",
    "\n",
    "### Memory Optimization\n",
    "\n",
    "#### Disable Desktop GUI\n",
    "```bash\n",
    "$ sudo init 3     # stop the desktop\n",
    "# log your user back into the console (Ctrl+Alt+F1, F2, ect)\n",
    "$ sudo init 5     # restart the desktop\n",
    "```\n",
    "\n",
    "Disable desktop on boot\n",
    "```bash\n",
    "sudo systemctl set-default multi-user.target\n",
    "```\n",
    "\n",
    "Enable desktop on boot\n",
    "```bash\n",
    "sudo systemctl set-default graphical.target\n",
    "```\n",
    "\n",
    "## Text (LLM)\n",
    "### NanoLLM\n",
    "\n",
    "```bash\n",
    "jetson-containers run \\\n",
    "  --env HUGGINGFACE_TOKEN=hf_abcd \\\n",
    "  $(./autotag nano_llm) \\\n",
    "  python3 -m nano_llm.chat --api=mlc \\\n",
    "    --model meta-llama/Llama-2-7b-chat-hf \\\n",
    "    --quantization q4f16_ft\n",
    "```\n",
    "`exit` for exiting container.\n",
    "\n",
    "```bash\n",
    "jetson-containers run \\\n",
    "  --env HUGGINGFACE_TOKEN=hf_abcd \\\n",
    "  $(autotag nano_llm) \\\n",
    "    python3 -m nano_llm.studio\n",
    "```\n",
    "\n",
    "## Robotics\n",
    "### ros2_nanollm"
   ]
  },
  {
   "cell_type": "markdown",
   "id": "e6e5c607",
   "metadata": {},
   "source": [
    "# [Isaac ROS](https://nvidia-isaac-ros.github.io/index.html)\n",
    "\n",
    "```bash\n",
    "sudo apt update && sudo apt upgrade -y\n",
    "# install docker engine for ubuntu using convenient script > post-installation steps\n",
    "```\n",
    "\n"
   ]
  },
  {
   "cell_type": "markdown",
   "id": "55932b13",
   "metadata": {},
   "source": [
    "# Tutorials\n",
    "## Articulated Robotics Tutorial\n",
    "### Glossary\n",
    "\n",
    "- Jetson: Nvidia's embedded GPU computing board.\n",
    "- CUDA: for writing general code on a GPU.\n",
    "- Isaac: Nvidia's CUDA accelerated robotics development platform.\n",
    "- Isaac ROS: CUDA-accelerated ROS packages.\n",
    "- Omniverse: Rendering library for RTX, physical AI, etc.\n",
    "- Isaac Sim: Robotics simulator built on Omniverse.\n",
    "- COSMOS: generative AI models for replicating real-world environments.\n",
    "\n",
    "Nvidia has a docker image for Isaac ros (nvcr.io/nvidia/isaac/ros) that installs all dependencies. They also have a script that runs a terminal inside that container.  \n",
    "\n",
    "We will also setup a directory (e.g., workspaces/isaac_ros-dev) that'll run inside the container. The path is assigned as an environment variable (${ISAAC_ROS_WS}). Dumping files in the workspaces makes it available across the container.\n",
    "\n",
    "### Compute Setup\n",
    "- Step 1: Install Docker: You can install using convenience script > post installation steps.\n",
    "- Step 2: use NVME without MicroSD.\n",
    "- Step 4: Jetson setup for VPI: assume driver is installed, install CUDA toolkit > follow steps.\n",
    "\n",
    "### Sensor Setup\n",
    "\n",
    "\n",
    "### [Developer Environment Setup](https://nvidia-isaac-ros.github.io/getting_started/dev_env_setup.html)\n",
    "Follow all steps. On step 4, you can execute this command `mkdir -p  ~/workspaces/isaac_ros-dev/src`.\n",
    "\n",
    "### [Reference Workflows](https://nvidia-isaac-ros.github.io/reference_workflows/index.html)\n",
    "\n",
    "For manipulators and 3D vision-based Perceptor.\n",
    "\n",
    "### Concepts\n"
   ]
  }
 ],
 "metadata": {
  "language_info": {
   "name": "python"
  }
 },
 "nbformat": 4,
 "nbformat_minor": 5
}
