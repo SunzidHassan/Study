{
 "cells": [
  {
   "cell_type": "markdown",
   "id": "0232ce53",
   "metadata": {},
   "source": [
    "# [Jetson AI Lab](https://www.jetson-ai-lab.com/index.html)\n",
    "\n",
    "\n",
    "## Setup\n",
    "### Memory Optimization\n",
    "\n",
    "#### Disable Desktop GUI\n",
    "```bash\n",
    "$ sudo init 3     # stop the desktop\n",
    "# log your user back into the console (Ctrl+Alt+F1, F2, ect)\n",
    "$ sudo init 5     # restart the desktop\n",
    "```\n",
    "\n",
    "Disable desktop on boot\n",
    "```bash\n",
    "sudo systemctl set-default multi-user.target\n",
    "```\n",
    "\n",
    "Enable desktop on boot\n",
    "```bash\n",
    "sudo systemctl set-default graphical.target\n",
    "```\n"
   ]
  },
  {
   "cell_type": "markdown",
   "id": "e6e5c607",
   "metadata": {},
   "source": [
    "# [Isaac ROS](https://nvidia-isaac-ros.github.io/index.html)\n",
    "\n",
    "```bash\n",
    "sudo apt update && sudo apt upgrade -y\n",
    "# install docker engine for ubuntu using convenient script > post-installation steps\n",
    "```\n",
    "\n",
    "## Articulated Robotics Tutorial\n"
   ]
  }
 ],
 "metadata": {
  "language_info": {
   "name": "python"
  }
 },
 "nbformat": 4,
 "nbformat_minor": 5
}
