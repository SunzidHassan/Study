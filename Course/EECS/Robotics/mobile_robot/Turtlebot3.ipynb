{
 "cells": [
  {
   "cell_type": "markdown",
   "id": "18d67a90",
   "metadata": {},
   "source": []
  }
 ],
 "metadata": {
  "language_info": {
   "name": "python"
  }
 },
 "nbformat": 4,
 "nbformat_minor": 5
}
