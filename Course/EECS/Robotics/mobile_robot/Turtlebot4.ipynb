{
 "cells": [
  {
   "cell_type": "markdown",
   "id": "cd539edd",
   "metadata": {},
   "source": [
    "# Turtlebot 4\n",
    "Separate simulation and realworld robot system.\n",
    "\n",
    "## Simulation\n",
    "Install sim system.  \n",
    "\n",
    "Running the simulator with default settings: \n",
    "```bash\n",
    "ros2 launch turtlebot4_gz_bringup turtlebot4_gz.launch.py\n",
    "```\n",
    "\n",
    "Running the simulator with SLAM with Nav2 \n",
    "```bash\n",
    "ros2 launch turtlebot4_gz_bringup turtlebot4_gz.launch.py slam:=true nav2:=true rviz:=true\n",
    "```\n",
    "\n",
    "## Creating workspace\n",
    "Create a workspace (folder):  \n",
    "```bash\n",
    "mkdir turtlebot4_ws && cd turtlebot4_ws && mkdir src  \n",
    "colcon build  \n",
    "```\n",
    "\n",
    "Source the new package installation everytime you want to use the package with:\n",
    "```bash\n",
    "gedit ~/.bashrc  \n",
    "add: source turtlebot4_ws/install/setup.bash  \n",
    "source ~/.bashrc  \n",
    "```\n",
    "## ROS2 Package\n",
    "```bash\n",
    "cd src/  \n",
    "ros2 pkg create PACKAGE_NAME --build-type ament_python --dependencies rclpy  \n",
    "cd ..  \n",
    "colcon build --symlink-install\n",
    "```\n",
    "## ROS2 Node\n",
    "```bash\n",
    "cd turtlebot4_ws/src/turtlebot4_controller/turtlebot4_controller$  \n",
    "touch my_first_node.py  \n",
    "chmod +x my_first_node.py  \n",
    "```\n",
    "\n",
    "\n",
    "\n",
    "## Running node\n",
    "```bash\n",
    "ros2 run turtlebot4_controller NODENAME\n",
    "ros2 run turtlebot4_controller NODENAME\n",
    "\n",
    "```\n"
   ]
  }
 ],
 "metadata": {
  "language_info": {
   "name": "python"
  }
 },
 "nbformat": 4,
 "nbformat_minor": 5
}
